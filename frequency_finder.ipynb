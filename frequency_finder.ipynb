{
 "cells": [
  {
   "cell_type": "markdown",
   "metadata": {},
   "source": [
    "## 1. Data Preprocessing"
   ]
  },
  {
   "cell_type": "code",
   "execution_count": 1,
   "metadata": {},
   "outputs": [],
   "source": [
    "# Importing Libraries\n",
    "\n",
    "import numpy as np\n",
    "import pandas as pd\n",
    "import re\n",
    "from nltk.corpus import stopwords\n",
    "from nltk.stem.porter import PorterStemmer"
   ]
  },
  {
   "cell_type": "markdown",
   "metadata": {},
   "source": [
    "### *Subjects_topics preprocessing*"
   ]
  },
  {
   "cell_type": "code",
   "execution_count": 8,
   "metadata": {},
   "outputs": [
    {
     "data": {
      "text/html": [
       "<div>\n",
       "<style scoped>\n",
       "    .dataframe tbody tr th:only-of-type {\n",
       "        vertical-align: middle;\n",
       "    }\n",
       "\n",
       "    .dataframe tbody tr th {\n",
       "        vertical-align: top;\n",
       "    }\n",
       "\n",
       "    .dataframe thead th {\n",
       "        text-align: right;\n",
       "    }\n",
       "</style>\n",
       "<table border=\"1\" class=\"dataframe\">\n",
       "  <thead>\n",
       "    <tr style=\"text-align: right;\">\n",
       "      <th></th>\n",
       "      <th>Unnamed: 0</th>\n",
       "      <th>topic</th>\n",
       "      <th>subject</th>\n",
       "    </tr>\n",
       "  </thead>\n",
       "  <tbody>\n",
       "    <tr>\n",
       "      <th>0</th>\n",
       "      <td>1115</td>\n",
       "      <td>fcfs</td>\n",
       "      <td>Operating System</td>\n",
       "    </tr>\n",
       "    <tr>\n",
       "      <th>1</th>\n",
       "      <td>1923</td>\n",
       "      <td>dml</td>\n",
       "      <td>Database Management System</td>\n",
       "    </tr>\n",
       "    <tr>\n",
       "      <th>2</th>\n",
       "      <td>835</td>\n",
       "      <td>jdbc</td>\n",
       "      <td>Object_oriented_programing</td>\n",
       "    </tr>\n",
       "    <tr>\n",
       "      <th>3</th>\n",
       "      <td>1866</td>\n",
       "      <td>joints</td>\n",
       "      <td>Database Management System</td>\n",
       "    </tr>\n",
       "    <tr>\n",
       "      <th>4</th>\n",
       "      <td>1125</td>\n",
       "      <td>buffering</td>\n",
       "      <td>Operating System</td>\n",
       "    </tr>\n",
       "  </tbody>\n",
       "</table>\n",
       "</div>"
      ],
      "text/plain": [
       "   Unnamed: 0      topic                     subject\n",
       "0        1115       fcfs            Operating System\n",
       "1        1923        dml  Database Management System\n",
       "2         835       jdbc  Object_oriented_programing\n",
       "3        1866     joints  Database Management System\n",
       "4        1125  buffering            Operating System"
      ]
     },
     "execution_count": 8,
     "metadata": {},
     "output_type": "execute_result"
    }
   ],
   "source": [
    "# Importing the dataset of the topics\n",
    "\n",
    "topic_dataset = pd.read_csv('./Converted Files/topic_dataset.tsv', delimiter = '\\t', quoting = 3, encoding = \"ISO-8859-1\")\n",
    "topic_dataset.head(5)"
   ]
  },
  {
   "cell_type": "code",
   "execution_count": 9,
   "metadata": {},
   "outputs": [
    {
     "data": {
      "text/html": [
       "<div>\n",
       "<style scoped>\n",
       "    .dataframe tbody tr th:only-of-type {\n",
       "        vertical-align: middle;\n",
       "    }\n",
       "\n",
       "    .dataframe tbody tr th {\n",
       "        vertical-align: top;\n",
       "    }\n",
       "\n",
       "    .dataframe thead th {\n",
       "        text-align: right;\n",
       "    }\n",
       "</style>\n",
       "<table border=\"1\" class=\"dataframe\">\n",
       "  <thead>\n",
       "    <tr style=\"text-align: right;\">\n",
       "      <th></th>\n",
       "      <th>topic</th>\n",
       "    </tr>\n",
       "  </thead>\n",
       "  <tbody>\n",
       "    <tr>\n",
       "      <th>0</th>\n",
       "      <td>fcfs</td>\n",
       "    </tr>\n",
       "    <tr>\n",
       "      <th>1</th>\n",
       "      <td>dml</td>\n",
       "    </tr>\n",
       "    <tr>\n",
       "      <th>2</th>\n",
       "      <td>jdbc</td>\n",
       "    </tr>\n",
       "    <tr>\n",
       "      <th>3</th>\n",
       "      <td>joints</td>\n",
       "    </tr>\n",
       "    <tr>\n",
       "      <th>4</th>\n",
       "      <td>buffering</td>\n",
       "    </tr>\n",
       "  </tbody>\n",
       "</table>\n",
       "</div>"
      ],
      "text/plain": [
       "       topic\n",
       "0       fcfs\n",
       "1        dml\n",
       "2       jdbc\n",
       "3     joints\n",
       "4  buffering"
      ]
     },
     "execution_count": 9,
     "metadata": {},
     "output_type": "execute_result"
    }
   ],
   "source": [
    "# Removing other unwanted columns\n",
    "\n",
    "topic_df = topic_dataset.iloc[:, 1:2]\n",
    "topic_df.head()"
   ]
  },
  {
   "cell_type": "code",
   "execution_count": 10,
   "metadata": {},
   "outputs": [],
   "source": [
    "# Making the keyword list\n",
    "key_word = []\n",
    "\n",
    "# For the complete keyword list\n",
    "for i in range(0, len(topic_df)):\n",
    "    keys = re.sub(\"[^a-zA-Z]\", \" \", topic_df['topic'][i])\n",
    "    keys = keys.lower()\n",
    "    keys = keys.split()\n",
    "    \n",
    "    # Stemming the keywords as well using PoterStemmer\n",
    "    ps = PorterStemmer()\n",
    "    keys = [ps.stem(word) for word in keys if not word in set(stopwords.words('english'))]\n",
    "    \n",
    "    # Finally joining the splitted words\n",
    "    keys = ' '.join(keys)\n",
    "    key_word.append(keys)"
   ]
  },
  {
   "cell_type": "code",
   "execution_count": 11,
   "metadata": {},
   "outputs": [
    {
     "name": "stdout",
     "output_type": "stream",
     "text": [
      "['fcf', 'dml', 'jdbc', 'joint', 'buffer', 'applet', 'deadlock', 'ddl', 'polymorph', 'cach', 'thread', 'secur', 'schedul', 'inherit', 'encapsul', 'transact', 'object', 'sql', 'key']\n"
     ]
    }
   ],
   "source": [
    "print(key_word)"
   ]
  },
  {
   "cell_type": "markdown",
   "metadata": {},
   "source": [
    "### *500_questions preprocessing*"
   ]
  },
  {
   "cell_type": "code",
   "execution_count": 14,
   "metadata": {},
   "outputs": [
    {
     "data": {
      "text/html": [
       "<div>\n",
       "<style scoped>\n",
       "    .dataframe tbody tr th:only-of-type {\n",
       "        vertical-align: middle;\n",
       "    }\n",
       "\n",
       "    .dataframe tbody tr th {\n",
       "        vertical-align: top;\n",
       "    }\n",
       "\n",
       "    .dataframe thead th {\n",
       "        text-align: right;\n",
       "    }\n",
       "</style>\n",
       "<table border=\"1\" class=\"dataframe\">\n",
       "  <thead>\n",
       "    <tr style=\"text-align: right;\">\n",
       "      <th></th>\n",
       "      <th>Unnamed: 0</th>\n",
       "      <th>question</th>\n",
       "    </tr>\n",
       "  </thead>\n",
       "  <tbody>\n",
       "    <tr>\n",
       "      <th>0</th>\n",
       "      <td>2254</td>\n",
       "      <td>(Avg. of 42 ) : What is a SQL view?</td>\n",
       "    </tr>\n",
       "    <tr>\n",
       "      <th>1</th>\n",
       "      <td>1390</td>\n",
       "      <td>Question involving Primary Key Integrity const...</td>\n",
       "    </tr>\n",
       "    <tr>\n",
       "      <th>2</th>\n",
       "      <td>1224</td>\n",
       "      <td>How secure are encrypted stored procedures  tr...</td>\n",
       "    </tr>\n",
       "    <tr>\n",
       "      <th>3</th>\n",
       "      <td>1172</td>\n",
       "      <td>8. A candidate appearing for an examinatio  n ...</td>\n",
       "    </tr>\n",
       "    <tr>\n",
       "      <th>4</th>\n",
       "      <td>1135</td>\n",
       "      <td>Consider the following areas for tuning. The o...</td>\n",
       "    </tr>\n",
       "  </tbody>\n",
       "</table>\n",
       "</div>"
      ],
      "text/plain": [
       "   Unnamed: 0                                           question\n",
       "0        2254                (Avg. of 42 ) : What is a SQL view?\n",
       "1        1390  Question involving Primary Key Integrity const...\n",
       "2        1224  How secure are encrypted stored procedures  tr...\n",
       "3        1172  8. A candidate appearing for an examinatio  n ...\n",
       "4        1135  Consider the following areas for tuning. The o..."
      ]
     },
     "execution_count": 14,
     "metadata": {},
     "output_type": "execute_result"
    }
   ],
   "source": [
    "# Importing the dataset of the questions\n",
    "\n",
    "questions_dataset = pd.read_csv('./Converted Files/500_questions.tsv', delimiter = '\\t', quoting = 3, encoding = \"ISO-8859-1\")\n",
    "questions_dataset.head()"
   ]
  },
  {
   "cell_type": "code",
   "execution_count": 15,
   "metadata": {},
   "outputs": [
    {
     "data": {
      "text/html": [
       "<div>\n",
       "<style scoped>\n",
       "    .dataframe tbody tr th:only-of-type {\n",
       "        vertical-align: middle;\n",
       "    }\n",
       "\n",
       "    .dataframe tbody tr th {\n",
       "        vertical-align: top;\n",
       "    }\n",
       "\n",
       "    .dataframe thead th {\n",
       "        text-align: right;\n",
       "    }\n",
       "</style>\n",
       "<table border=\"1\" class=\"dataframe\">\n",
       "  <thead>\n",
       "    <tr style=\"text-align: right;\">\n",
       "      <th></th>\n",
       "      <th>question</th>\n",
       "    </tr>\n",
       "  </thead>\n",
       "  <tbody>\n",
       "    <tr>\n",
       "      <th>0</th>\n",
       "      <td>(Avg. of 42 ) : What is a SQL view?</td>\n",
       "    </tr>\n",
       "    <tr>\n",
       "      <th>1</th>\n",
       "      <td>Question involving Primary Key Integrity const...</td>\n",
       "    </tr>\n",
       "    <tr>\n",
       "      <th>2</th>\n",
       "      <td>How secure are encrypted stored procedures  tr...</td>\n",
       "    </tr>\n",
       "    <tr>\n",
       "      <th>3</th>\n",
       "      <td>8. A candidate appearing for an examinatio  n ...</td>\n",
       "    </tr>\n",
       "    <tr>\n",
       "      <th>4</th>\n",
       "      <td>Consider the following areas for tuning. The o...</td>\n",
       "    </tr>\n",
       "  </tbody>\n",
       "</table>\n",
       "</div>"
      ],
      "text/plain": [
       "                                            question\n",
       "0                (Avg. of 42 ) : What is a SQL view?\n",
       "1  Question involving Primary Key Integrity const...\n",
       "2  How secure are encrypted stored procedures  tr...\n",
       "3  8. A candidate appearing for an examinatio  n ...\n",
       "4  Consider the following areas for tuning. The o..."
      ]
     },
     "execution_count": 15,
     "metadata": {},
     "output_type": "execute_result"
    }
   ],
   "source": [
    "# Removing the 1st column \n",
    "\n",
    "questions_df = questions_dataset.iloc[:, 1:2]\n",
    "questions_df.head()"
   ]
  },
  {
   "cell_type": "code",
   "execution_count": 16,
   "metadata": {},
   "outputs": [],
   "source": [
    "# Creating the 'corpus'\n",
    "corpus = []\n",
    "\n",
    "# for loop for complete dataset\n",
    "for i in range(0, 500):\n",
    "    question = re.sub(\"[^a-zA-Z]\", \" \", questions_df['question'][i])\n",
    "    question = question.lower()\n",
    "    question = question.split()\n",
    "    \n",
    "    # Stemming the dataset as well using PoterStemmer\n",
    "    ps = PorterStemmer()\n",
    "    question = [ps.stem(word) for word in question if not word in set(stopwords.words('english'))]\n",
    "    \n",
    "    # Finally joining the splitted words\n",
    "    question = ' '.join(question)\n",
    "    corpus.append(question)"
   ]
  },
  {
   "cell_type": "code",
   "execution_count": 17,
   "metadata": {},
   "outputs": [
    {
     "name": "stdout",
     "output_type": "stream",
     "text": [
      "['avg sql view', 'question involv primari key integr constraint etc', 'secur encrypt store procedur trigger view', 'candid appear examinatio n secur mark pass paper secur mark fail mark maximum mark paper', 'consid follow area tune order step list need maintain prevent tune side effect exampl good increas buffer cach reduc rewrit sql statement databas design late', 'cant creat object abstract class', 'transfer page memori peripher devic buffer spool', 'question star question correct answer question fetch mark wrong answer fetch neg mark key leav question sure heard dummi question four option wrong pleas tri identifi avoid question attempt question might risk select next round', 'infopackag schedul repair request flag check', 'anchor object print condit object use explicitli implicitli anchor object', 'difficult use databas object declar modul within form', 'object schema resid differ tablespac', 'object seen front side see two concentr squar topview also without hidden line draw side view', 'case fcf best algo', 'schedul know time schedul', 'multipl inherit question', 'schedul algorithm logic execut suspend', 'code decod blood relat direct sens object reason select decis tabl puzzl code pattern number seri pattern analog logic word suffici data suffici', 'use object name', 'background c support multipl inherit c multipl inherit c alway controversi resolut multipl inherit implement method differ base class hard control anticip c decid avoid problem allow class implement multipl interfac contain method implement restrict class singl parent class although result redund implement method differ class implement interfac still excel compromis', 'mention four object orient program languag', 'alter tabl employe drop primari key employe id pk cascad', 'basic form sql statement read data tabl', 'modifi extent track sql server intern structur', 'effect rollback command transact follow', 'sql plsql see command sql except cursor plsql', 'head move back forth disk schedul algorithm', 'public key encrypt want send messag b one els read messag encrypt messag use', 'uniqu key take mani null valu', 'differ foreign key refer key', 'implement inherit c', 'mean object orient program', 'sql variant type store datatyp except varchar max varbinari max xml text ntext rowvers timestamp thought data rowvers store binari store sql variant sql variant may seem strang store variant variant say sql variant data type actual exist sql server choos best type storag store valu give', 'shortlist candid group gd group student select apti test gd call r select technic interview two panel tech interview one cse anoth ece sent cse panel wait half hour outsid room realli afraid wait insid enter room smile shake hand guy sit front soon saw name got interest becoz chakraborti formal talk start ask link list array structur malloc free ram cach memori simpl question java pointer osi layer function crc flow error control etc told favourit c java answer confid everi question topic half hour tech interview told ok avijit fine question u ask compani relat question left firm hadshak wait result minut guy told go upstair wait hr interview oh god select hr guy cse b strong c java network', 'instal sql server creat new databas databas master key creat', 'refer sampl code object class myprofessor creat mani instanc professor contain', 'certif asymmetr key provid encrypt addit authent entiti', 'dynam privileg manag privileg group must chang privileg role need modifi secur domain user grant group role automat reflect chang made role', 'differ process thread', 'advantag object orient program langug', 'signific oper pl sql', 'gen english c que play key role', 'thesauru data configur sql server full text search', 'store object librari', 'question fire one anoth deadlock critic section memori manag shift sql gave simpl queri write got confus two polit said know sir rest confid correct tri confus remain intact point ask basic c pointer function preprocessor direct function', 'neg mark attempt written test question tick multipl choic object question time gonna student short list nd round one among', 'one addit key differ interfac abstract class possibl import one multipl interfac implement class one abstract class inherit singl class', 'tr thread use', 'happen applic open like ms word u press tab key respons seen cursor move bit word document r process jargon give proper technic term behind whole thing happen', 'suggest prepar sql site w school com basic command unix like grep cat output error base question c languag opt c easi prepar', 'question databas find correct sql queri permiss', 'question technic question base basic program logic java object orient technolog sql network etc time minut could solv either section first cannot carri time one section one also option go back question could chang answer want', 'happen keyboard key press abt wm char messag', 'without use strrev revers link list program find factori number swing servlet jdbc etc', 'cmo invert main yadi pmo nmo ko interchang ker de bo buffer bun jata hai', 'b read done transact yet commit', 'round bit tuff ever fill form skill certif mention definit question mention asp net certif hr ask tell life cycl asp net repli know theoret concept know practic knowledg hr ask tell know asp net told creat web page design run use button imag file upload connect data base immedi hr ask tell joint told know databas know use project creat updat delet tabl ask would studi collag sinc depart student ask repli know ask abt bubbl sort told answer ask abt stack told answer wait result fear luckili got select gone hr round bold say know answer hr take serious confus tell irrelev answer', 'page cach output cach', 'complet oop concept pleas complet prepar realtim exampl use oop concept program program illustr inherit overload overrid', 'differ b n c c answer brief narrat featur came polymorph interrupt expect', 'typecast one object type anoth object type one object type anoth data type clue box unbox', 'cpu schedul algorithm know', 'schedul know time schedul', 'interview quit easi question academ project question oop also ask sql concept like join normal trigger index oracl team lead question ask oracl unabl answer said much knowledg also ask write program merg two string end ask rate java well oracl told mani thing wipro ask technic interview continu minut hour result declar clear technic round ask leav home', 'two thread halt without execut wait lock obtain thread releas', 'gener interview might heard group discuss gener topic lg soft complet differ give technic topic would divid crowd group give minut one group support concept way group felt like debat discuss round assess commun skill manag skill rather would specif analyz technic knowledg us topic procedur orient vs object orient initi thought easi topic discuss competit easili get chanc express support word somehow tri convey thing know activ particip discuss minut chang posit group would ask speak care repeat point alreadi mention peopl confid discuss competitor somehow qualifi second round', 'hr tell foreign key primari key', 'thread use screw jack lead screw', 'first tech ask c c sql', 'output cach power techniqu increas request respons throughput cach content gener dynam page output cach enabl default output given respons cach unless explicit action taken make respons cacheabl', 'sql statement correct question clear', 'polymorph abil object take mani form', 'data dictionari cach store area sga call share sql pool allow share pars sql statement among concurr user', 'u initi function declar class class inherit alreadi', 'privat b coz privat inherit make everyth base class privat deriv class an', 'singl cach less instruct an', 'mainli cover oper system consist question semaphor question job schedul algorithm page question virtual memori hash etc', 'ye call without creat object', 'c group sql statement defin user orient task', 'think java secur', 'q deadlock block respect transact', 'data base writer dbwr data base writer write modifi block databas buffer cach data file requir sinc data written whenev transact commit', 'b logwrit lgwr logwrit write redo log entri disk redo log data gener redo log buffer sga transact commit log buffer fill lgwr write log entri onlin redo log file', 'encapsul datahid abstract', 'contain object type question', 'verbal aptitud question minut level difficulti moder time key factor tri practic indiabix accuraci time manag', 'c oop inherit polymorph etc clear basic', 'two buffer ckt given differ b w', 'set backup scheme sql server server want setup nightli full backup hourli log backup mainten plan subsystem mani plan must setup', 'activex data object ado access data flat file well databas e encapsul dao rdo ole call ole db technolog object connect record set command paramet field error properti', 'alter tabl employe drop primari key cascad', 'credenti sql server use access', 'abstract class close relat interfac class cannot instanti frequent either partial implement implement one key differ abstract class interfac class may implement unlimit number interfac may inherit one abstract kind class class deriv abstract class may still implement interfac abstract class use creat compon allow specifi invari level function method leav implement method specif implement class need also version well addit function need deriv class ad base class without break code', 'c deriv class object base object virtual instanc', 'one right thread tree', 'around peopl gave test cs peopl select next round schedul next day', 'mani problem like need resourc b need resourc type minimum resourc need deadlock occur', 'declar object local function tri', 'cach access time msec main memori access time msec hit ratio', 'go polari compani interview locat gachibowli firstli shock see campu first mnc enter even secur guard room equip ac amaz much time enter offic serv us snack interview polari quit differ other ask differ situat ask situat react say real life problem last min lucki interview much friendli ask mani question rememb', 'write java program snippet thread synchronis concept', 'instal sql server creat new databas databas master key creat', 'technic object question time alloc min easi section crack basic knowledg c cpp java finish section min', 'object test correct an score mark wrong an mark', 'pcm fsk dpsk numer object q', 'public key algorithm want send messag b', 'ask tell oop concept inherit program applic jdbc connect step possibl program said know', 'one need multi pgm enviorn option virtual memori secur time share none', 'abstract class partial implement class word least oper method implement full implement left inherit class', 'mani user ad applic role sql server', 'normal one would schedul hierarchi daili weekli monthli backup howev consult user decid backup schedul backup frequenc normal depend follow factor', 'sql queri join subqueri cluster etc portion tough', 'correct answer data abstract data encapsul inherit polymorph pillar', 'creat object class mandatori know much memori requir load class case abstract class calcul abstract member that creat object abstract class', 'constructor destructor dynam bind polymorph inherit virtual functionsetc', 'tech test object question min qu cover core java jsp ejb sql', 'object like cube sphere seen along x z axe get apart suggest anoth similar characterist', 'b transact load partit improv', 'ask inherit polymorph abstract encapsul etc', 'record group intern oracl form structur column row framework similar databas tabl howev unlik databas tabl record group separ object belong form modul defin', 'cse background make sure know program languag dbm import sql queri import', 'key mode lock mode properti level', 'use tracer token sql server replic measur latenc small amount data written transact log', 'interview servlet singl thread multithread', 'correct answer trustworthi databas properti indic whether instal instanc sql server trust databas reach perform action outsid databas default databas reduc certain threat result attach databas contain potenti harm code', 'imp statement fail object alreadi exist use ignor import paramet ignor error care might end duplic row', 'dbm ask normal foreign key etc', 'cs dbm basic knowledg sql queri must c program c concept like inherit polymorph etc network concept also import', 'q tell command ddl dml dcl tcl command', 'sql server agent mail send messag sql server', 'tree inord thread node b insert left child nade node alreadi right child null ptr b point', 'sql writer servic', 'mani type jdbc driver', 'tech rnd thread told write program encapsul inherit abstract project', 'asp net respons object type httprespons say respons write realli say basic httpcontext current respons write call one mani overload write method httprespons', 'new statu chang record od object', 'crack part perhap easiest part test autom sound instruct us read particular number key immedi respond speak loudli clearli dont read fast bag max mark', 'jam partit per group conduct jam topic choic relat technic effect languag key clear round elimin done clear per group', 'master detail relationship associ two base tabl block master block detail block relationship block reflect primari key foreign key relationship tabl block base', 'consol graphic interfac one schedul job event monitor databas consol open window workstat unix xterm oemapp command web browser session oem webstag', 'constructor destructor dynam bind polymorph inherit etc', 'q follow condit necessari deadlock', 'int gave tab told write sql queri', 'bit tough round interview ask academ background interest subject ask subject cover mca cours schedul tri cover subject simpl question test capabl answer question ask live exampl answer session last minut confid subject interest', 'object test correct an score mark wrong an mark student score mark question mani an correct', 'answer phantom row phantom row refer situat execut dml statement retriev data anoth process may add new row result set exampl', 'sql server look implement full text search one tabl look index store mircrosoft word document varbinari max column use full text search index column', 'op account secur risk client server environ dba', 'reach spot time white field near itpl campu amaz secur guard ask lot question send insid brief verif allow insid campu', 'test question base sql unix c c java choos languag want question time min', 'dictionari cach', 'protocol support kerbero authent sql server', 'class encapsul data member member function function data member inaccess outsid environ', 'problem cach rememb power ask two solut given problem cach design better', 'open hub servic enabl us distribut data sap bw system extern data mart analyt applic applic ensur control distribut use sever system central object export data infospok defin sourc target object data bw becom hub enterpris', 'answer acronym describ concurr support databas acid acronym follow four term atom everi oper within transact treat singular oper either data modif perform none perform', 'public key b privat key c b public key b privat key', 'mani key need symmetr asymmetr crptographi', 'mant primari key exist tabl', 'java quit easi polymorph method overload method overrid diff constructor static like ask give exampl constructor code see javatpoint help javatpoint use', 'key confid soft skill importantli read thing l ts', 'design implement thread model complet port', 'maintain genet divers crucial long term surviv crop crop varieti somewher becom vulner either due onslaught diseas soil becom waterlog alkalin scientist need breed anoth varieti crop region search suitabl gene relat varieti natur gene pool rice introduc harm featur like gene silenc chang normal function gene would terribl implic food secur rice eat region world', 'ask polymorph inherit etc', 'find size java object primit type', 'group normal gd topic joint famili vs nuclear famili role govt sector arrang marriag vs love marriag etc', 'test connect sql server use util conjunct readpip util establish connect', 'th juli receiv mail aspir mind clear aptitud one among candid india wrote aspir mind check mail th even gd schedul st juli day left prepar interview refresh topic electron devic c basic c', 'jdbc multithread oop concept', 'gave onlin test hal mechan schedul abad', 'number overview screen correspond total luw see also first question written qrfc queue yet confirm detail screen display record contain luw record belong previou delta request record meet select condit preced delta init request filter thu record readi next delta request display detail screen detail screen transact rsa possibl exist custom exit taken account', 'technic round ask unix sql join alter tabl', 'object orient program class object properti anoth class object', 'question option question object type', 'commit make perman chang result sql statement transact chang made sql statement transact becom visibl user session transact start transact commit', 'chang appear object runtim chang name visual attribut programmat properti class assign cannot chang programmat object inherit properti class name visual attribut name visual attribut set take preced visual attribut properti class ignor', 'ask normal cardin primari key foreignkey', 'secur platform independ', 'transact data load infocub', 'oracl sql server', 'ask list topic c ask output program ask write program relat file ask object orient concept ask project gave situat ask tell ok hour', 'develop secur polici sql server data entri clerk need access seri tabl creat data entri role assign proper permiss well add user', 'question microprocessor data structur prepor postord network piggypag sql superkey etc could rememb', 'q creat tabl exist one an use select sql command', 'crack part c anoth tricki area test listen skill go key part b c autom voic ask question answer two three word max two suggest sometim answer question self direct question', 'core java concept like inherit polymorph', 'sql server instanc awar mean servic', 'write better write back relat cach memori', 'technic test consist section pseudocod c unix n sql test r comput base', 'instal us english sql server instanc default option collat sort return', 'follow modul within sql server cannot sign digit signatur', 'upper limit cut student secur given limit select technic hr interview expect cut technic written', 'recoveri process appli redo log databas roll forward one roll forward specif point time disast occur roll forward last transact record log file sql connect sy sysdba', 'object group block', 'valid encrypt algorithm sql server ae algorithm bit bit bit support window xp window use would need upgrd window', 'an convert implicit object explicit vice versa explain well manner way', 'export object tablespac', 'notic sql server instanc databas grow sql server delay databas respons', 'root caus class conflict possess acquisit instinct long ideal achiev one secur maximum materi satisfact possess neither suppress elimin grow feed ceas possess still whether confin share mani', 'unmanag environ compil linker directli compil sourc code nativ instruct target specif processor disadvantag process time want run execut differ platform compil code use compil linker compil code target specif hardwar mean time want applic run differ platform ship compil instruct lead compil maintain multipl version applic compani tri creat gener compil version order target environ process known lowest common denomin approach lead gener program optim properli take advantag underli hardwar infrastructur processor cach etc clr suppli one time compil comput architectur support set msil jit compil run support architectur', 'b read done transact yet commit', 'sir actual good concept object orient program java taught colleg b tech cours sir also interest net technolog microsoft curios know program experi java c clear syntax c concept', 'deadlock told abt conditon deadlock also', 'ora uniqu constraint violat import duplic row use ignor skip tabl alreadi exist imp give error object creat', 'imagin scenario complet port communictaion port take handl file socket read write submit cach data necessari attempt take request complet upon error complet call user suppli function let user applic know particular request complet work asynchron process unlimit number simultan request design implement thread model complet port rememb take account multi processor machin', 'know ado net object method', 'section also moder question high level question unix question sql last question c java c base select start exam better choos c unix sql mandatori', 'effect handl secur want minim administr burden bob member data entri role cross train want remov role need deni permiss vacat tabl best way anoth role specif deni permiss', 'relat schema r bcnf satisfi addit constraint everi function depend xy x must candid key', 'access protect member base class inherit privat', 'attend virtusa written test hyderabad written test consist two section first section ask sql java uml softwar engin sql question base join tri understand question much quicker', 'also imp put thing resum know key look sound cool know much ask mostli everyth resum', 'one use dynam sql within pl sql use ddl procedur', 'panel help friendli tri make candid comfort question sql java sdlc basic oop concept', 'time key section manag time answer modul', 'key word friend b key word friend scope resolut c scope resolut noth', 'tabl b c contain row primari key tabl b pk maxm row could return queri', 'way data warehous differ databas taken time sinc got discuss everi aspect import aspect touch upon oltp transact olap transact queri respons time databas load databas queri process etc', 'question data object constraint', 'relat primari key foreign key', 'tabl function design return set row pl sql logic intend use normal tabl view sql statement also use pipelin inform etl process', 'basic sql queri union join differ truncat delet', 'data dictionari cach store area sga call share pool allow share pars sql statement among concurr user', 'provid secur project', 'f embed sql incorpor ddl dml c program languag e g use sql statement languag c open fetch execut close', 'object state valu output cach work asp net', 'motorola india job profil write code program mobil job locat banglor test paper consist object question electron c program find mistak one int type variabl assign valu use function int func howev function declar earlier', 'good domain knowledg concept like java oop dbm sql queri data structur easili crack interview never forget prepar final year project prepar dbm special join normal transact acid properti', 'follow accept schedul start monday friday', 'relat schema r bcnf satisfi addit constraint everi function depend xy x must candid key', 'process schedul disk schedul', 'b normal form tabl said nd normal form candid key depend primari key', 'differ dbm n rdbm told abt e codd rule n key concept', 'class object object', 'tell urself ur hobbi ur strength weak hire u ur career object', 'technic interview schedul septemb sikkim manip institut technolog smit visit lot tension appear pre placement talk arrang septemb short ppt video relat bosch share give full attent pre placement talk mani time question ask three came interview round panel set call one one advic tell random whoever come interview pleas hesit go', 'properti claus name object contain list properti set creat properti claus base object object base properti inherit set properti claus make sens object', 'object test correct an score mark wrong an mark student score mark question mani an correct', 'around student clear round clear onlin test work done relax technic interview prepar one core subject ece prepar digit electron microprocessor basic program also may ask write program c c java languag one languag chosen onlin test learn basic sql queri relat groupbi etc', 'aptitud test question minut time time manag select question master key crack written test import thing fill circl omr sheet care answer', 'answer need object competit environ', 'differ dbm n rdbm told abt e codd rule n key concept', 'deadlock n differ mechan avoid', 'messag type exist sql server servic broker', 'partli avail contain data unresolv transact involv distribut databas', 'level cachei first level cach access time ns second level cach access time ns memori access time ns total memori access time', 'first part c c question fundament program output object type', 'sql server dbm system provid microsoft sql server sometim mistakenli refer sql', 'join topic sql like better join command club row column', 'person x z day x lent tractor z mani month gave mani tractor x z mani month z thing end transact one find tractor origin', 'q would like display date data upload report usual load transact data nightli easi way includ inform report user know valid report', 'round conduct like person interview min that key point note check spontan fluenci need much fluent manag speak least sec', 'updat field sql alter row also give commit command system crash wat happen command given whether updat alter tabl r', 'an primari key databas design import', 'tablespac hold object differ scheme', 'dens index index record apper everi search key file', 'correct answer data abstract data encapsul inherit polymorph pillar', 'f system global area sga sga share memori region alloc oracl contain data control inform one oracl instanc consist databas buffer cach redo log buffer', 'databas trigger procedur set sql pl sql statement automat execut result insert updat delet tabl', 'data base trigger dbt fire dml oper perform data base tabl form trigger ft fire user press key navig field screen', 'creat object creat instanc object', 'write jdbc connect code give overview', 'super key an primari key attribut', 'improv cach perform', 'technic consist question sql unix c c java ever chosen', 'certif like asymmetr key valid ident issuer', 'question simpl like compani net revenu locat headquart ceo mini project key role play mini project innov idea came basic question c java like three oop principl encapsul inherit etc', 'inform current sql server user process display', 'hit ratio cach data given rememb', 'follow statement true deriv inherit virtual non virtual instanc base class', 'tr differ primari key foreign key', 'level error sever indic transact deadlock error', 'widow son receiv rs rs respect frm inherit rs rest divid widow receiv time much son amnt receiv widow son pair thousand rs', 'c section que deal fundament question inherit friend function', 'basic form sql statement read data tabl', 'herebi share experi mindtre campu drive colleg close campu henc confin colleg student campu drive schedul rd th sept cdse indor intim exam onlin', 'assum system mb cach mean disk access time cach access time ns overal mean access time us ms tripl memori miss rate halv memori requir bring mean access time ns', 'g recoveror reco recoveror use resolv distribut transact network', 'self join join foreign key tabl refer tabl outer join join condit use one queri row one tabl join condit even though satisfi join condit', 'compil time error indic cannot inherit class final method', 'went p room found interview front first convers gener talk like tell want life want joint l etc gener convers', 'sql stament correct one', 'interview encapsul polymorph', 'referenc allow creat object inherit function appear object referenc object similar copi object except result refer object maintain link sourc object refer object automat inherit chang made sourc object open regener modul contain refer object string express k', 'question object type', 'ask diff btwn array n link list polymorph encapsul water jug problem puzzl basic c prog', 'queue reader agent sql server replic', 'secur function provid layer osi', 'user normal use connect statement connect one databas user anoth howev dba switch one user anoth without password cours advis bridg oracl secur look exampl sql select password dba user usernam scott', 'differ uniqu primari key constraint', 'interfac class entiti defin word interfac interfac implement signatur word definit method without bodi one similar abstract class contract use defin hierarchi subclass defin specif set method argument main differ class implement one interfac inherit one abstract class sinc c support multipl inherit interfac use implement multipl inherit serial work net', 'canva view background object layout interfac item text item check box radio group boilerpl object oper see interact run form run time oper see item assign specif canva canva term must display specif window', 'object link embed provid capabl integr object mani ms window applic singl compound document creat integr applic enabl use featur form', 'differ b w primari key uniqu key', 'follow column index sql server full text search', 'bit order creation constructor object alway object creat base class deriv class', 'essenti featur inherit', 'everi tabl foreign key mandatori', 'ip sec internet secur mechan', 'restrict permiss set alway use net assembl keep secur sql server environ extern access unsaf permiss set allow registri access unsaf permiss requir', 'happen keyboard key press abt wm char messag', 'lexic refer place holder text embed sql statement lexic refer creat use column paramet name', 'java applet move wave file run one machin mean', 'basic karnataka state gulbarga district complet ece hometown interest divert core decid enhanc skill relat program skill cours c c java sql web technolog', 'year experienc java spring interview schedul st feb', 'sql queri insert delet updat', 'deriv class object base object virtual instanc base object non virtual instanc', 'favourit subject said dsa c dbm say os os ask w r linux cn may also ask gener network secur firewal encrypt etc ca includ digit microprocessor etc', 'ddl trigger cannot sign object', 'secur function provid layer osi', 'ask deadlock answer', 'ladi hr start scan applic resum submit alreadi start one guy member guy observ behav situat ask question like differ c c java etc perfect resum includ topic trap easili ask sql concept mainli concentr project done engin perfect confid present properli guy get nervou show big mnc golden opportun mistak guy', 'dfd cannot use object orient design', 'technic question rd attempt core compani realiz compani ask mechan question book mechan engin convent object type', 'stage got mark technic object test score essay write help lot go select process', 'runtim polymorph', 'dot net sql php written test three set b c', 'connect object command object u', 'uniqu key null primari key cannot null', 'sell price object rs profit percent cost price', 'os cpu schedul algorithm thread life cycl page concept', 'differ cpu schedul algorithm os', 'deadlock graph error detect layer osi find', 'key crack round tri solv quantit first invest lot time plu bit harder solv get answer easili start worri lose time panic brain get stuck cannot even attempt rest section stabl mind make wrong give quantit section first navig section easili start solv first', 'deriv class object base object virtual instanc base object', 'next technic test question relat sql unix java languag chosen u', 'ask draw architectur c defin inherit oop polymorph etc', 'thank left confus uncertainti told friend gone result announc name announc final select realis later confid got final satyamit happi key confid accordin confid win race', 'written test consist object type question', 'creat new assembl want test sql server instal develop edit default workstat creat assembl sysadmin write function use assembl work could problem', 'line redo log set tow line redo file record commit chang made databas whenev transact commit correspond redo entri temporarili store redo log buffer sga written line redo log file background process lgwr line redo log file use cyclic fashion', 'technic comput scienc os cach access time ns', 'rollback segment dynam extent handl larger transact entri load singl transact may wipeout avail free space rollback segment tablespac prevent user use rollback segment', 'sql server follow schema chang support public object replic databas', 'object x refer content', 'user account physic structur databas import relationship object databas certain privileg', 'x kcbcbh cach buffer current buffer header fix tabl predict potenti loss decreas number databas buffer db block lru statist paramet set true gather inform tabl', 'tablespac databas schema object', 'sql server cluster need add anti viru softwar per corpor standard exclud scan', 'gener sql analyz tabl tabl name count statist queri oracl system catalogu e g user tabl tabl', 'one qustion privat key public key quest', 'schedul techniqu use window xp explain schedul techniqu use unix vax vmx system', 'pass mark versant test mark secur mark given anoth chanc versant test peopl secur give one chanc', 'one import thing observ confid commun skill way answer question guy never loos hope one key role make look confid', 'cpu schedul process schedul differ', 'swing applet sir also interest work jdbc explain project done swing jdbc', 'round common gd topic nd speak anyth interest worth share sec key talk english talk point topic chosen rich common like cricket clear gd round', 'follow accept schedul start monday friday', 'b object firm determin manag inform need need', 'explain would use java oop properti help program want write program use basic oop properti like abstract inherit polymorph etc', 'cach access time msec main memori access time msec hit ratio mean access time', 'dens index index record apper everi search key file', 'question approxim number student secur less mark subject', 'topic like schedul day schedul tomorrow favorit movi etc', 'two type subscript sql server replic', 'tripurari chaudhari frm yamuna nagar haryana happi place patni comput system baddi hp joint campu th oct first day written exam total candid appear colleg procedur pc', 'level error sever indic transact deadlock error', 'nuclear famili joint famili', 'privileg audit audit use power system privileg without regard specif name object', 'stage probabl reject becom unlik ask anyth strength weak hobbi career object famili background also give puzzl solv depend approach tackl problem', 'next ask sql unix sql delet duplic tabl like', 'sql statement correct', 'one addit key differ interfac abstract class possibl import one multipl interfac implement class one abstract class inherit singl class', 'simplifi sql statement databas user', 'refer sampl code object class yprofessor creat mani', 'use privat key part b', 'c transact control statement manag chang dml', 'ask abt primari key foreign key uniqu', 'squar contain angl one object', 'c everi exchang key chang', 'ask wht encapsul explain till didnt look satisfactori tri tell use exampl', 'dcl dml ddl languag exampl', 'want disabl trigger demploye humanresourc employe tabl sql server adventurework sampl databas follow statement trick', 'issu follow sql command', 'first round aptitud round happen colleg mainli two part paper first part consist question second one code round first part question mainli softwar engin java databas quantit aptitud english question easi need basic understand subject second round two code question choos java code languag question easi knowledg collect thread java easili question', 'key would cool confid interview', 'differ uniqu key primari key', 'c question like polymorph runtim polymorph inherit etc', 'an primari key attribut', 'technic interview minut seem long u r insid u never feel u hv an patient que easi n bit tricki good knowledg sql c must u must know least basic command unix otherwis u reject ask u write command unix ask que command', 'layer osi model concern printer buffer etc network session transport', 'use buffer cach advisori given workload queri v db cach advic tabl chang necessari would use alter system set db cach size command', 'rdbm question base codd rule normal sql queri', 'one use dynam sql within pl sql use ddl procedur', 'number time process repeatedli queri dictionari tabl call recurs hint due data dictionari cach small increas share pool size paramet optim size data dictionari cach', 'creat databas snapshot sql server sale databas captur end month activ next day server fail need recov standbi server use previou night backup recov snapshot', 'an common object request broker architetur', 'gear box type key use', 'note confid key crack interview technic question indiabix com help', 'inherit relat abstract', 'follow condit deadlock resourc previou grant forcebl taken away process', 'thread an detach unit execut code', 'interview tell differ procedur object orient languag', 'q wap jdbc code fetch student databas use mysql', 'delet statist object use object data dictionari', 'two question one rivet joint cotterjoint', 'left outer joint oper return', 'also technic question question base algorithm prepar commonli ask n use sort search algorithm question write output code snippet given object question', 'schedul schedul techniqu explain', 'object group contain group object defin object group want packag relat object copi refer anoth modul', 'cpu shedul b memori manag c transact', 'tri jot key point infosi provid best train program', 'st call interview day prepar interview n aric ask n everi thing must studi toil v hard day n night revis almost everyth data structur os dcn c c w engin sdlc normal key sql unix etc', 'rd round next day technic round ask project question base train mention resum basic sql question ask c base question', 'unlimit differ sql server edit', 'sql stament correct one an', 'let us think mark answer question timer second second remain pleas get panick tens mark answer minut answer automat save click next option screen minut display next question wish buffer time second next question display feel relax moment follow everi question help person', 'encapsul implement exampl', 'key crack round also alreadi know still mention confid eye contact commun group', 'n b never tri attempt sec first staff present wud persuad u first order secur gud mark tri two section first return bck sec time permit', 'cach access time msec main memori access time msec hit ratio mean access time', 'said small ex like show door besid said like theif unlock door without exact key thief given chanc prepar lock key perfectli way theif unlock like tester come develop write code code way tester find bug way good develop even though yr expereienc test away develop', 'post field valid field post chang key nextfld key nextfld post chang valid field post field g', 'mani friend ask sql jave cpp', 'x kgltr librari cach translat tabl entri fix tabl', 'q statement would use remov employe id pk primari key constraint depend constraint fromth employe tabl', 'deriv class object explicitli destroy appli delet oper base class pointer object function automat call object', 'get object get refer exist object', 'q two tabl databas name employe depart employe tabl column row depart tabl column row output follow sql queri', 'key mode specifi oracl form uniqu identifi row databas properti includ applic run non oracl datasourc', 'q primari key foreign key sql queri', 'flexfield oracl applic field made segment segment assign name set valid valu oracl applic use flexfield captur inform organ two type flexfield key flexfield descript flexfield', 'kk compil layer pars sql compil pl sql', 'ye partial properti class inherit properti overload procedur function', 'key concept well aptitud test answer confid interview', 'sinc neg mark tri answer question time manag play key role written test conduct may colleg result declar june', 'tr given structur tabl indic candid key type tell dba key take index tabl abcd ck b cd', 'visual attribut font color pattern properti set form menu object appear applic interfac', 'x kglx librari cach access tabl', 'output cach also support variat cach get post name valu pair', 'sql queri also ask find second highest salari tabl sql concept like view trigger etc', 'java applet get download happen', 'oper system resourc alloc write banker algorithm safeti algorithm deadlock resolv condit dead lock etc', 'sql dba allow dba monitor control oracl databas sql loader load data standard oper system file flat file oracl databas tabl export exp import imp util allow move exist data oracl format oracl databas', 'interview encapsul abstract explain exampl', 'crack part perhap easiest part test autom sound instruct us read particular number key immedi respond speak loudli clearli read fast bag max mark', 'answer creat ddl trigger creat procedur databas event find answer page begin sql server develop novic profession', 'creat servic master key smo would get handl servicemasterkey object server object call regener method', 'flag indic whether grant databs object export valu n', 'addit delta od object infocub', 'commit make perman chang result sql statement transact chang made sql statement transact becom visibl user session transact start transact commit', 'next round group discuss student divid batch batch consist member batch girl boy gd panel number given topic internet usag among children quit easi topic thought definit clear round minut brainstorm topic monitor ask us start discuss one friend took initi start discuss realli wait chanc soon complet almost member friend start argu girl loud voic realli disappoint deliv even though valid point minut pass away discuss turn clumsi even speak actual broken everyon shout easi topic panel member realli annoy discuss second realiz one thing shout much guy group discuss debat everyon calm monitor bit happi start shout run time conclud discuss minut discuss everyon suppos give self introduct speak min topic individu spot announc result member got select technic hr one among key point rememb clear gd confid speak authorit polit must make eye contact friend enough clear gd', 'primari key foreign uniqu key differ', 'attend l infotech interview campu rajalakshmi engin colleg sa engin colleg chennai l infotech conduct campu three day aug aug two differ colleg mention schedul aug rajalakshmi colleg', 'employ tabl key field employ number data everi n th row need simpl follow queri get requir result', 'day technic round also elimin round concentr sql c gener non ie mechan ipe civil technic also hr round', 'object orient program use', 'first round ask c java c data structur dbm question conceptu concept clear easi question like represent tree link list use c sql queri like join complex analysi c program c program method overload java use super keyword java use b tree string length calcul use pointer etc', 'intellig agent oia oia run target databas take care execut job event schedul consol', 'essenti featur inherit', 'explain polymorph inherit', 'one convert high level languag code object form', 'sql server includ user defin role member anoth user defin role', 'meant polymorph', 'key use gear transmit power flat saddl spline squar', 'see figur number correctli ask question give figur also calcul may also ask result declar clear round technic interview techin interview ask write program c almost ask topic like oper system inform secur authent authouris dbm data structur java prepar well topic hr simpl', 'deleg permiss sql server server administr local singl server job one server would like allow anoth administ start stop view histori delet histori administr job role assign', 'direct map good map cach memori', 'achiev multipl inherit java', 'key confid soft skill importantli read thing l ts', 'mani thread u want', 'interview schedul next day sunday number interview first first', 'must abl creat row trigger tabl e alreadi avail give tabl privileg cannot specifi snapshot log name oracl use name master tabl name databas object support snapshot log master tabl name less equal charact tabl name creat mlog tablenam trigger name tlog name', 'said follow deloitt interview th standard father join famili thing order distract get high score th openli said inspit abl secur emerg school topper', 'function key trigger associ individu sql form function key attach key function trigger key key sequenc normal perform sql form oper key refer key f key f', 'c object orient languag ye', 'record group intern oracl form data structur column row framework similar databas tabl howev unlik databas tabl record group separ object belong form modul defin record group unlimit number column type char long number date provid total number column exceed k record group column name cannot exceed charact', 'long transact contain mani sql statement intermedi marker savepoint declar use divid transact smaller part allow option later roll back work perform current point transact declar savepoint within transact', 'revert sql server', 'databas tabl exist without primari key', 'fact tabl contain maximum key figur', 'particular event sql server creat user command one ddl trigger assign', 'b foreign key integr rule fkir denot relationship foreign key primari key enforc data child tabl master tabl cannot delet', 'dbm differ dbm rdbm join key normal import topic', 'public key b privat key c b public key b privat key', 'one must java concept also help lot interview virtusa interview done mainli java come dbm question relat sql queri bit data structur like stack queue less focu softwar test basic clear know type test test done real world time given question minut', 'rate method apprais manger verifi object rank method apprais manag manag', 'import sql queri exist', 'agent task read transact log transact replic move transact need replic distributor', 'drive schedul day actual finish thing day', 'later hr round quit simpl ask tell background hobbi interest strength kean pretti confid answer assum key factor work well', 'round common gd topic nd speak anyth interest worth share sec key talk english talk point topic chosen rich common like cricket clear gd round', 'multipl databas support oracl superior abil manag multipl databas within transact use two phase commit protocol', 'result declar th august interview schedul octob', 'ask inherit polymorph abstrat encapsul etc', 'pl sql v avail oracl implement binari wrapper pl sql program protect sourc code done via standalon util transform pl sql sourc code portabl binari object code somewhat larger origin way distribut softwar without worri expos proprietari algorithm method sql plu sql dba still understand know execut script care decod command avail', 'object unsign clr assembl extern access unsaf permiss', 'anyhow made sit room hr gave brief introduct softwar test gave n object test', 'rollback retract chang result sql statement transact', 'score maximum mark last two modul need say stori irrespect topic given machin highlight key word use sentenc given versant test paper', 'java basic object class abstract polymorph inherit', 'object audit audit access specif schema object without regard user', 'sql learn command somewhat intern like commit etc easi', 'encapsul c', 'type export perform complet cumul increment list sequenc event larg transact exce beyond optim valu entri wrap caus rollback segment expand anot complet e written', 'answer moment said mind like ok dude leav stare blank eye said need moment said ye sir great actual first interview nervou sit interview graduat ask start answer phrase word correctli apologis said noth apologis quit natur somehow manag say back readi interview enough knowledg thing would wors point blank paper look formula even figur would store actual valu measur one confess say sir mind total blank even think suppos store valu help remind array somehow code c incorrect point ask code incorrect one python proper syntax manag somehow ask dictionari use scenario could keep valu key error valu said would prefer array need travers entir thing error valu', 'class class repres data structur store number data object', 'sql writer servic introduc handl access data file sql server allow backup program like vss function sql server still run', 'method divid tabl would enabl quick refer sap use fact file partit improv perform partit calmonth fiscper tabl partit help run report faster data store relev partit also tabl mainten becom easier oracl informix ibm db support tabl partit sap db microsoft sql server ibm db support tabl portion', 'employ tabl key field employ number data everi n th row need simpl follow queri get requir result']\n"
     ]
    }
   ],
   "source": [
    "print(corpus)"
   ]
  },
  {
   "cell_type": "markdown",
   "metadata": {},
   "source": [
    "### NOTE: \n",
    "- Now we have the keyword list in the \"key_word\" variable and the \"corpus\" with all the preprocessed questions.\n",
    "- We need to find the word's (key_word) appearance in the questions (corpus) through the index of the question."
   ]
  },
  {
   "cell_type": "code",
   "execution_count": 18,
   "metadata": {},
   "outputs": [],
   "source": [
    "# Finding the matching words with matching indexes from the corpus using the key_word list\n",
    "\n",
    "matching_question_index = []\n",
    "matching_keyword = []\n",
    "\n",
    "for i in range(0, len(corpus)):\n",
    "    split_corp = corpus[i].split()\n",
    "    for j in range(0, len(split_corp)):\n",
    "        for k in range(0, len(key_word)):\n",
    "            if  key_word[k] == split_corp[j]:\n",
    "                matching_question_index.append(i)\n",
    "                matching_keyword.append(key_word[k])"
   ]
  },
  {
   "cell_type": "code",
   "execution_count": 19,
   "metadata": {},
   "outputs": [],
   "source": [
    "# Combining the matching question index and the keyword\n",
    "\n",
    "merge_word_index = set(list(zip(matching_question_index, matching_keyword)))\n",
    "merge_word_index = list(merge_word_index)\n",
    "merge_word_index = sorted(merge_word_index, key = lambda x:x[0])\n",
    "merge_word_index = np.array(merge_word_index)"
   ]
  },
  {
   "cell_type": "code",
   "execution_count": 23,
   "metadata": {},
   "outputs": [
    {
     "data": {
      "text/plain": [
       "array([['0', 'sql'],\n",
       "       ['1', 'key'],\n",
       "       ['2', 'secur'],\n",
       "       ...,\n",
       "       ['497', 'sql'],\n",
       "       ['498', 'sql'],\n",
       "       ['499', 'key']], dtype='<U11')"
      ]
     },
     "execution_count": 23,
     "metadata": {},
     "output_type": "execute_result"
    }
   ],
   "source": [
    "# Now we have a merged array of keywords along with their respictive Question indexes\n",
    "merge_word_index"
   ]
  },
  {
   "cell_type": "code",
   "execution_count": 24,
   "metadata": {},
   "outputs": [],
   "source": [
    "# This part is for visualisation of the Key_words and the respective indexes \n",
    "\n",
    "combined_word_index = np.array(merge_word_index)\n",
    "combined_word_index = pd.DataFrame(combined_word_index)\n",
    "combined_word_index.columns = ['index', 'topic']\n",
    "\n",
    "# Viewing in a proper order\n",
    "\n",
    "combined_word_index_count = combined_word_index.groupby('topic').count().reset_index()\n",
    "combined_word_index = combined_word_index.groupby('topic').agg({'index': ', '.join }).reset_index()"
   ]
  },
  {
   "cell_type": "code",
   "execution_count": 25,
   "metadata": {},
   "outputs": [
    {
     "data": {
      "text/html": [
       "<div>\n",
       "<style scoped>\n",
       "    .dataframe tbody tr th:only-of-type {\n",
       "        vertical-align: middle;\n",
       "    }\n",
       "\n",
       "    .dataframe tbody tr th {\n",
       "        vertical-align: top;\n",
       "    }\n",
       "\n",
       "    .dataframe thead th {\n",
       "        text-align: right;\n",
       "    }\n",
       "</style>\n",
       "<table border=\"1\" class=\"dataframe\">\n",
       "  <thead>\n",
       "    <tr style=\"text-align: right;\">\n",
       "      <th></th>\n",
       "      <th>topic</th>\n",
       "      <th>index</th>\n",
       "    </tr>\n",
       "  </thead>\n",
       "  <tbody>\n",
       "    <tr>\n",
       "      <th>0</th>\n",
       "      <td>applet</td>\n",
       "      <td>302, 345, 431</td>\n",
       "    </tr>\n",
       "    <tr>\n",
       "      <th>1</th>\n",
       "      <td>buffer</td>\n",
       "      <td>4, 6, 54, 81, 82, 87, 257, 330, 336, 380, 381,...</td>\n",
       "    </tr>\n",
       "    <tr>\n",
       "      <th>2</th>\n",
       "      <td>cach</td>\n",
       "      <td>4, 33, 57, 69, 72, 75, 81, 98, 150, 153, 187, ...</td>\n",
       "    </tr>\n",
       "    <tr>\n",
       "      <th>3</th>\n",
       "      <td>ddl</td>\n",
       "      <td>128, 212, 224, 308, 371, 383, 436, 471</td>\n",
       "    </tr>\n",
       "    <tr>\n",
       "      <th>4</th>\n",
       "      <td>deadlock</td>\n",
       "      <td>44, 80, 96, 141, 202, 242, 271, 310, 322, 356,...</td>\n",
       "    </tr>\n",
       "    <tr>\n",
       "      <th>5</th>\n",
       "      <td>dml</td>\n",
       "      <td>128, 145, 224, 259, 366, 371</td>\n",
       "    </tr>\n",
       "    <tr>\n",
       "      <th>6</th>\n",
       "      <td>encapsul</td>\n",
       "      <td>83, 89, 112, 118, 133, 152, 256, 266, 282, 285...</td>\n",
       "    </tr>\n",
       "    <tr>\n",
       "      <th>7</th>\n",
       "      <td>fcf</td>\n",
       "      <td>13</td>\n",
       "    </tr>\n",
       "    <tr>\n",
       "      <th>8</th>\n",
       "      <td>inherit</td>\n",
       "      <td>15, 19, 30, 46, 58, 73, 74, 86, 92, 106, 108, ...</td>\n",
       "    </tr>\n",
       "    <tr>\n",
       "      <th>9</th>\n",
       "      <td>jdbc</td>\n",
       "      <td>53, 106, 132, 168, 261, 345, 393</td>\n",
       "    </tr>\n",
       "    <tr>\n",
       "      <th>10</th>\n",
       "      <td>joint</td>\n",
       "      <td>56, 165, 280, 355, 357, 395, 396</td>\n",
       "    </tr>\n",
       "    <tr>\n",
       "      <th>11</th>\n",
       "      <td>key</td>\n",
       "      <td>1, 7, 21, 27, 28, 29, 34, 36, 41, 46, 48, 52, ...</td>\n",
       "    </tr>\n",
       "    <tr>\n",
       "      <th>12</th>\n",
       "      <td>object</td>\n",
       "      <td>5, 9, 10, 11, 12, 17, 18, 20, 31, 35, 39, 43, ...</td>\n",
       "    </tr>\n",
       "    <tr>\n",
       "      <th>13</th>\n",
       "      <td>polymorph</td>\n",
       "      <td>59, 71, 86, 112, 114, 118, 127, 140, 159, 163,...</td>\n",
       "    </tr>\n",
       "    <tr>\n",
       "      <th>14</th>\n",
       "      <td>schedul</td>\n",
       "      <td>8, 14, 16, 26, 61, 62, 76, 95, 110, 139, 143, ...</td>\n",
       "    </tr>\n",
       "    <tr>\n",
       "      <th>15</th>\n",
       "      <td>secur</td>\n",
       "      <td>2, 3, 37, 79, 99, 107, 147, 148, 162, 177, 181...</td>\n",
       "    </tr>\n",
       "    <tr>\n",
       "      <th>16</th>\n",
       "      <td>sql</td>\n",
       "      <td>0, 4, 22, 23, 25, 32, 34, 40, 42, 44, 49, 50, ...</td>\n",
       "    </tr>\n",
       "    <tr>\n",
       "      <th>17</th>\n",
       "      <td>thread</td>\n",
       "      <td>38, 47, 64, 67, 94, 100, 123, 130, 133, 161, 2...</td>\n",
       "    </tr>\n",
       "    <tr>\n",
       "      <th>18</th>\n",
       "      <td>transact</td>\n",
       "      <td>24, 55, 80, 81, 82, 117, 122, 155, 170, 174, 1...</td>\n",
       "    </tr>\n",
       "  </tbody>\n",
       "</table>\n",
       "</div>"
      ],
      "text/plain": [
       "        topic                                              index\n",
       "0      applet                                      302, 345, 431\n",
       "1      buffer  4, 6, 54, 81, 82, 87, 257, 330, 336, 380, 381,...\n",
       "2        cach  4, 33, 57, 69, 72, 75, 81, 98, 150, 153, 187, ...\n",
       "3         ddl             128, 212, 224, 308, 371, 383, 436, 471\n",
       "4    deadlock  44, 80, 96, 141, 202, 242, 271, 310, 322, 356,...\n",
       "5         dml                       128, 145, 224, 259, 366, 371\n",
       "6    encapsul  83, 89, 112, 118, 133, 152, 256, 266, 282, 285...\n",
       "7         fcf                                                 13\n",
       "8     inherit  15, 19, 30, 46, 58, 73, 74, 86, 92, 106, 108, ...\n",
       "9        jdbc                   53, 106, 132, 168, 261, 345, 393\n",
       "10      joint                   56, 165, 280, 355, 357, 395, 396\n",
       "11        key  1, 7, 21, 27, 28, 29, 34, 36, 41, 46, 48, 52, ...\n",
       "12     object  5, 9, 10, 11, 12, 17, 18, 20, 31, 35, 39, 43, ...\n",
       "13  polymorph  59, 71, 86, 112, 114, 118, 127, 140, 159, 163,...\n",
       "14    schedul  8, 14, 16, 26, 61, 62, 76, 95, 110, 139, 143, ...\n",
       "15      secur  2, 3, 37, 79, 99, 107, 147, 148, 162, 177, 181...\n",
       "16        sql  0, 4, 22, 23, 25, 32, 34, 40, 42, 44, 49, 50, ...\n",
       "17     thread  38, 47, 64, 67, 94, 100, 123, 130, 133, 161, 2...\n",
       "18   transact  24, 55, 80, 81, 82, 117, 122, 155, 170, 174, 1..."
      ]
     },
     "execution_count": 25,
     "metadata": {},
     "output_type": "execute_result"
    }
   ],
   "source": [
    "# We found the question's index which has the following topic in it and have combined them together\n",
    "combined_word_index"
   ]
  },
  {
   "cell_type": "code",
   "execution_count": 26,
   "metadata": {},
   "outputs": [],
   "source": [
    "# Finding the respective questions as per keywords\n",
    "\n",
    "list_of_qtn = []\n",
    "list_of_key = []\n",
    "\n",
    "for i in range(0, len(merge_word_index)):\n",
    "    temp = merge_word_index[i][0]\n",
    "    temp = int(temp)\n",
    "    for j in range(0, len(questions_df)):\n",
    "        if questions_df.index[j] == temp:\n",
    "            list_of_qtn.append(questions_df.iloc[j,0])\n",
    "            list_of_key.append(str(merge_word_index[i][1]))"
   ]
  },
  {
   "cell_type": "code",
   "execution_count": 27,
   "metadata": {},
   "outputs": [],
   "source": [
    "# Merging the questions with keywords\n",
    "list_of_qtn_key = list(zip(list_of_key, list_of_qtn))\n",
    "list_of_qtn_key = np.array(list_of_qtn_key)"
   ]
  },
  {
   "cell_type": "code",
   "execution_count": 28,
   "metadata": {},
   "outputs": [],
   "source": [
    "# Visualising the questions and key_words (topics) associated with the respective question\n",
    "\n",
    "# Visualising\n",
    "qtn_ans = pd.DataFrame(list_of_qtn_key)\n",
    "qtn_ans.columns = ['topics', 'questions']\n",
    "\n",
    "qtn_ans_v_count = qtn_ans.groupby('topics').count().reset_index()\n",
    "qtn_ans_v = qtn_ans.groupby('topics').agg({'questions' : '\\t, '.join}).reset_index()"
   ]
  },
  {
   "cell_type": "code",
   "execution_count": 29,
   "metadata": {
    "scrolled": false
   },
   "outputs": [
    {
     "data": {
      "text/html": [
       "<div>\n",
       "<style scoped>\n",
       "    .dataframe tbody tr th:only-of-type {\n",
       "        vertical-align: middle;\n",
       "    }\n",
       "\n",
       "    .dataframe tbody tr th {\n",
       "        vertical-align: top;\n",
       "    }\n",
       "\n",
       "    .dataframe thead th {\n",
       "        text-align: right;\n",
       "    }\n",
       "</style>\n",
       "<table border=\"1\" class=\"dataframe\">\n",
       "  <thead>\n",
       "    <tr style=\"text-align: right;\">\n",
       "      <th></th>\n",
       "      <th>topics</th>\n",
       "      <th>questions</th>\n",
       "    </tr>\n",
       "  </thead>\n",
       "  <tbody>\n",
       "    <tr>\n",
       "      <th>0</th>\n",
       "      <td>applet</td>\n",
       "      <td>27-Java applet of a moving /waving file is run...</td>\n",
       "    </tr>\n",
       "    <tr>\n",
       "      <th>1</th>\n",
       "      <td>buffer</td>\n",
       "      <td>Consider the following areas for tuning. The o...</td>\n",
       "    </tr>\n",
       "    <tr>\n",
       "      <th>2</th>\n",
       "      <td>cach</td>\n",
       "      <td>Consider the following areas for tuning. The o...</td>\n",
       "    </tr>\n",
       "    <tr>\n",
       "      <th>3</th>\n",
       "      <td>ddl</td>\n",
       "      <td>Q) Tell the commands of ddl dml dcl  &amp;tcl comm...</td>\n",
       "    </tr>\n",
       "    <tr>\n",
       "      <th>4</th>\n",
       "      <td>deadlock</td>\n",
       "      <td>\"Questions were fired one after another from d...</td>\n",
       "    </tr>\n",
       "    <tr>\n",
       "      <th>5</th>\n",
       "      <td>dml</td>\n",
       "      <td>Q) Tell the commands of ddl dml dcl  &amp;tcl comm...</td>\n",
       "    </tr>\n",
       "    <tr>\n",
       "      <th>6</th>\n",
       "      <td>encapsul</td>\n",
       "      <td>18)  are encapsulation  datahiding  abstractio...</td>\n",
       "    </tr>\n",
       "    <tr>\n",
       "      <th>7</th>\n",
       "      <td>fcf</td>\n",
       "      <td>? Case in which fcfs is the best algo</td>\n",
       "    </tr>\n",
       "    <tr>\n",
       "      <th>8</th>\n",
       "      <td>inherit</td>\n",
       "      <td>multiple inheritance (2 questions)\\t, Some bac...</td>\n",
       "    </tr>\n",
       "    <tr>\n",
       "      <th>9</th>\n",
       "      <td>jdbc</td>\n",
       "      <td>Without using strrev  reversing a linked list ...</td>\n",
       "    </tr>\n",
       "    <tr>\n",
       "      <th>10</th>\n",
       "      <td>joint</td>\n",
       "      <td>This Round Was Bit Tuff  What Ever you Fill in...</td>\n",
       "    </tr>\n",
       "    <tr>\n",
       "      <th>11</th>\n",
       "      <td>key</td>\n",
       "      <td>Question involving Primary Key Integrity const...</td>\n",
       "    </tr>\n",
       "    <tr>\n",
       "      <th>12</th>\n",
       "      <td>object</td>\n",
       "      <td>2. Why we cant create object for abstract clas...</td>\n",
       "    </tr>\n",
       "    <tr>\n",
       "      <th>13</th>\n",
       "      <td>polymorph</td>\n",
       "      <td>5.difference b/n c and c++? I answered in brie...</td>\n",
       "    </tr>\n",
       "    <tr>\n",
       "      <th>14</th>\n",
       "      <td>schedul</td>\n",
       "      <td>A) InfoPackage â ' Scheduler â ' Repair Reques...</td>\n",
       "    </tr>\n",
       "    <tr>\n",
       "      <th>15</th>\n",
       "      <td>secur</td>\n",
       "      <td>How secure are encrypted stored procedures  tr...</td>\n",
       "    </tr>\n",
       "    <tr>\n",
       "      <th>16</th>\n",
       "      <td>sql</td>\n",
       "      <td>(Avg. of 42 ) : What is a SQL view?\\t, Conside...</td>\n",
       "    </tr>\n",
       "    <tr>\n",
       "      <th>17</th>\n",
       "      <td>thread</td>\n",
       "      <td>6. Difference between process and thread\\t, TR...</td>\n",
       "    </tr>\n",
       "    <tr>\n",
       "      <th>18</th>\n",
       "      <td>transact</td>\n",
       "      <td>4. The effect of the ROLLBACK command in a tra...</td>\n",
       "    </tr>\n",
       "  </tbody>\n",
       "</table>\n",
       "</div>"
      ],
      "text/plain": [
       "       topics                                          questions\n",
       "0      applet  27-Java applet of a moving /waving file is run...\n",
       "1      buffer  Consider the following areas for tuning. The o...\n",
       "2        cach  Consider the following areas for tuning. The o...\n",
       "3         ddl  Q) Tell the commands of ddl dml dcl  &tcl comm...\n",
       "4    deadlock  \"Questions were fired one after another from d...\n",
       "5         dml  Q) Tell the commands of ddl dml dcl  &tcl comm...\n",
       "6    encapsul  18)  are encapsulation  datahiding  abstractio...\n",
       "7         fcf              ? Case in which fcfs is the best algo\n",
       "8     inherit  multiple inheritance (2 questions)\\t, Some bac...\n",
       "9        jdbc  Without using strrev  reversing a linked list ...\n",
       "10      joint  This Round Was Bit Tuff  What Ever you Fill in...\n",
       "11        key  Question involving Primary Key Integrity const...\n",
       "12     object  2. Why we cant create object for abstract clas...\n",
       "13  polymorph  5.difference b/n c and c++? I answered in brie...\n",
       "14    schedul  A) InfoPackage â ' Scheduler â ' Repair Reques...\n",
       "15      secur  How secure are encrypted stored procedures  tr...\n",
       "16        sql  (Avg. of 42 ) : What is a SQL view?\\t, Conside...\n",
       "17     thread  6. Difference between process and thread\\t, TR...\n",
       "18   transact  4. The effect of the ROLLBACK command in a tra..."
      ]
     },
     "execution_count": 29,
     "metadata": {},
     "output_type": "execute_result"
    }
   ],
   "source": [
    "# The questions which contain the following topics\n",
    "qtn_ans_v"
   ]
  },
  {
   "cell_type": "code",
   "execution_count": 30,
   "metadata": {},
   "outputs": [],
   "source": [
    "# Finding the respective subjects\n",
    "\n",
    "import functools\n",
    "topic_sub = topic_dataset.iloc[:, 2:3].values\n",
    "topic_sub = topic_sub.tolist()\n",
    "topic_sub = functools.reduce(lambda x,y : x+y ,topic_sub)\n",
    "\n",
    "topic_sub_key = list(zip(key_word, topic_sub))\n",
    "topic_sub_key = np.array(topic_sub_key)\n",
    "\n",
    "\n",
    "list_of_sub = []\n",
    "\n",
    "for i in range(0, len(list_of_qtn_key)):\n",
    "    temp = list_of_qtn_key[i][0]\n",
    "    temp = str(temp)\n",
    "    for j in range(0, len(topic_sub_key)):\n",
    "        if topic_sub_key[j][0] == temp:\n",
    "            list_of_sub.append(str(topic_sub_key[j][1]))"
   ]
  },
  {
   "cell_type": "code",
   "execution_count": 31,
   "metadata": {},
   "outputs": [],
   "source": [
    "# Merging the subjects\n",
    "\n",
    "# First Converting the subject list into an array\n",
    "list_of_sub = np.array(list_of_sub)\n",
    "list_od_sub = list_of_sub[:, np.newaxis]\n",
    "\n",
    "# Merging the lists into a final list\n",
    "Final_list = np.column_stack((list_of_sub, list_of_qtn_key))\n",
    "\n",
    "# Visualising\n",
    "qtn_topic_sub = pd.DataFrame(Final_list)\n",
    "qtn_topic_sub.columns = ['subjects','topics', 'questions']\n",
    "\n",
    "final_qtn_topic_sub = qtn_topic_sub.groupby('subjects').agg({'topics' : ', '.join, \n",
    "                                                             'questions' : '\\t, '.join}).reset_index()"
   ]
  },
  {
   "cell_type": "code",
   "execution_count": 33,
   "metadata": {},
   "outputs": [
    {
     "data": {
      "text/html": [
       "<div>\n",
       "<style scoped>\n",
       "    .dataframe tbody tr th:only-of-type {\n",
       "        vertical-align: middle;\n",
       "    }\n",
       "\n",
       "    .dataframe tbody tr th {\n",
       "        vertical-align: top;\n",
       "    }\n",
       "\n",
       "    .dataframe thead th {\n",
       "        text-align: right;\n",
       "    }\n",
       "</style>\n",
       "<table border=\"1\" class=\"dataframe\">\n",
       "  <thead>\n",
       "    <tr style=\"text-align: right;\">\n",
       "      <th></th>\n",
       "      <th>subjects</th>\n",
       "      <th>topics</th>\n",
       "      <th>questions</th>\n",
       "    </tr>\n",
       "  </thead>\n",
       "  <tbody>\n",
       "    <tr>\n",
       "      <th>0</th>\n",
       "      <td>Database Management System</td>\n",
       "      <td>sql, key, sql, key, key, sql, sql, transact, s...</td>\n",
       "      <td>(Avg. of 42 ) : What is a SQL view?\\t, Questio...</td>\n",
       "    </tr>\n",
       "    <tr>\n",
       "      <th>1</th>\n",
       "      <td>Object_oriented_programing</td>\n",
       "      <td>object, object, object, object, object, inheri...</td>\n",
       "      <td>2. Why we cant create object for abstract clas...</td>\n",
       "    </tr>\n",
       "    <tr>\n",
       "      <th>2</th>\n",
       "      <td>Operating System</td>\n",
       "      <td>secur, secur, buffer, cach, buffer, schedul, f...</td>\n",
       "      <td>How secure are encrypted stored procedures  tr...</td>\n",
       "    </tr>\n",
       "  </tbody>\n",
       "</table>\n",
       "</div>"
      ],
      "text/plain": [
       "                     subjects  \\\n",
       "0  Database Management System   \n",
       "1  Object_oriented_programing   \n",
       "2            Operating System   \n",
       "\n",
       "                                              topics  \\\n",
       "0  sql, key, sql, key, key, sql, sql, transact, s...   \n",
       "1  object, object, object, object, object, inheri...   \n",
       "2  secur, secur, buffer, cach, buffer, schedul, f...   \n",
       "\n",
       "                                           questions  \n",
       "0  (Avg. of 42 ) : What is a SQL view?\\t, Questio...  \n",
       "1  2. Why we cant create object for abstract clas...  \n",
       "2  How secure are encrypted stored procedures  tr...  "
      ]
     },
     "execution_count": 33,
     "metadata": {},
     "output_type": "execute_result"
    }
   ],
   "source": [
    "# We have the list of questions with its respective subject and the topics in it\n",
    "final_qtn_topic_sub.head()"
   ]
  },
  {
   "cell_type": "markdown",
   "metadata": {},
   "source": [
    "### Separating the top 10 most frequently asked questions"
   ]
  },
  {
   "cell_type": "code",
   "execution_count": 34,
   "metadata": {},
   "outputs": [],
   "source": [
    "# Creating the list of top 10 most frequently asked questions\n",
    "\n",
    "qtn_ans = pd.DataFrame(list_of_qtn_key)\n",
    "qtn_ans.columns = ['topics', 'questions']\n",
    "qtn_ans_v_count = qtn_ans.groupby('questions').count().reset_index()\n",
    "\n",
    "\n",
    "frequent_qtn = []\n",
    "\n",
    "for i in range(0, len(qtn_ans_v_count)):\n",
    "    temp = qtn_ans_v_count.iloc[i][1]\n",
    "    temp = int(temp)\n",
    "    if temp > 2:\n",
    "        if temp > 3 or len(frequent_qtn) < 10:\n",
    "            frequent_qtn.append(str(qtn_ans_v_count.iloc[i][0]))"
   ]
  },
  {
   "cell_type": "code",
   "execution_count": 35,
   "metadata": {},
   "outputs": [
    {
     "data": {
      "text/plain": [
       "['1. Java basics what is object  class  abstraction  polymorphism  inheritance?',\n",
       " '7. He asked about inheritance  polymorphism  abstraction  encapsulation  etc',\n",
       " '7. He asked about inheritance  polymorphism  abstration encapsulation  etc...',\n",
       " 'COMMIT makes permanent the changes resulting from all SQL statements in the transaction. The changes made by the SQL statements of a transaction become visible to other user sessions transactions that start only after transaction is committed.',\n",
       " 'Can one use dynamic SQL within PL/SQL? OR Can you use a DDL in a procedure ? How ?',\n",
       " \"Consider the following areas for tuning. The order in which steps are listed needs to be maintained to prevent tuning side effects. For example  it is no good increasing the buffer cache if you can reduce I/O by rewriting a SQL statement. Database Design (if it's not too late):\",\n",
       " 'Correct answer: Data Abstraction  Data Encapsulation  Inheritance  Polymorphism. \\xa0(4 Pillars).',\n",
       " 'For IS/CS DBMS basic knowledge  SQL queries is a must  few C program and C++ concept like inheritance  polymorphism etc  networking concepts is also important.',\n",
       " 'One additional key difference between interfaces and abstract classes (possibly the most important one) is that multiple interfaces can be implemented by a class  but only one abstract class can be inherited by any single class.',\n",
       " 'TECH RND2: Threads  again they told to write programs in Encapsulation  Inheritance  Abstraction  about project.',\n",
       " 'This level of error severity indicates a transaction deadlock error.',\n",
       " 'When you install SQL Server 2005 and create a new database  is a Database Master Key created?']"
      ]
     },
     "execution_count": 35,
     "metadata": {},
     "output_type": "execute_result"
    }
   ],
   "source": [
    "frequent_qtn"
   ]
  },
  {
   "cell_type": "code",
   "execution_count": 36,
   "metadata": {},
   "outputs": [],
   "source": [
    "# Now finding the keys associated to those 10 questions\n",
    "\n",
    "frequent_topic = []\n",
    "frequent_sub = []\n",
    "\n",
    "for i in range(0, len(qtn_topic_sub)):\n",
    "    temp = qtn_topic_sub.iloc[i][2]\n",
    "    temp = set(str(temp).split(' '))\n",
    "    for j in range(0, len(frequent_qtn)):\n",
    "        temp2 = set(str(frequent_qtn[j]).split())\n",
    "        if temp == temp2:\n",
    "            frequent_topic.append(qtn_topic_sub.iloc[i][1])\n",
    "            frequent_sub.append(qtn_topic_sub.iloc[i][0])"
   ]
  },
  {
   "cell_type": "code",
   "execution_count": 37,
   "metadata": {},
   "outputs": [
    {
     "data": {
      "text/plain": [
       "['Database Management System',\n",
       " 'Database Management System',\n",
       " 'Database Management System',\n",
       " 'Database Management System',\n",
       " 'Database Management System',\n",
       " 'Operating System',\n",
       " 'Database Management System',\n",
       " 'Operating System',\n",
       " 'Database Management System',\n",
       " 'Database Management System',\n",
       " 'Database Management System',\n",
       " 'Database Management System']"
      ]
     },
     "execution_count": 37,
     "metadata": {},
     "output_type": "execute_result"
    }
   ],
   "source": [
    "frequent_sub"
   ]
  },
  {
   "cell_type": "code",
   "execution_count": 38,
   "metadata": {},
   "outputs": [
    {
     "data": {
      "text/plain": [
       "['sql',\n",
       " 'transact',\n",
       " 'sql',\n",
       " 'ddl',\n",
       " 'transact',\n",
       " 'deadlock',\n",
       " 'transact',\n",
       " 'deadlock',\n",
       " 'ddl',\n",
       " 'sql',\n",
       " 'transact',\n",
       " 'sql']"
      ]
     },
     "execution_count": 38,
     "metadata": {},
     "output_type": "execute_result"
    }
   ],
   "source": [
    "frequent_topic"
   ]
  },
  {
   "cell_type": "code",
   "execution_count": 39,
   "metadata": {},
   "outputs": [],
   "source": [
    "# Making the complete matrix\n",
    "top_10 = list(zip(frequent_sub, frequent_topic, frequent_qtn))\n",
    "top_10 = np.array(top_10)\n",
    "\n",
    "top_10_set = pd.DataFrame(top_10)\n",
    "top_10_set.columns = ['Subjects', 'Topics', 'Questions']"
   ]
  },
  {
   "cell_type": "code",
   "execution_count": 40,
   "metadata": {},
   "outputs": [
    {
     "data": {
      "text/html": [
       "<div>\n",
       "<style scoped>\n",
       "    .dataframe tbody tr th:only-of-type {\n",
       "        vertical-align: middle;\n",
       "    }\n",
       "\n",
       "    .dataframe tbody tr th {\n",
       "        vertical-align: top;\n",
       "    }\n",
       "\n",
       "    .dataframe thead th {\n",
       "        text-align: right;\n",
       "    }\n",
       "</style>\n",
       "<table border=\"1\" class=\"dataframe\">\n",
       "  <thead>\n",
       "    <tr style=\"text-align: right;\">\n",
       "      <th></th>\n",
       "      <th>Subjects</th>\n",
       "      <th>Topics</th>\n",
       "      <th>Questions</th>\n",
       "    </tr>\n",
       "  </thead>\n",
       "  <tbody>\n",
       "    <tr>\n",
       "      <th>0</th>\n",
       "      <td>Database Management System</td>\n",
       "      <td>sql</td>\n",
       "      <td>1. Java basics what is object  class  abstract...</td>\n",
       "    </tr>\n",
       "    <tr>\n",
       "      <th>1</th>\n",
       "      <td>Database Management System</td>\n",
       "      <td>transact</td>\n",
       "      <td>7. He asked about inheritance  polymorphism  a...</td>\n",
       "    </tr>\n",
       "    <tr>\n",
       "      <th>2</th>\n",
       "      <td>Database Management System</td>\n",
       "      <td>sql</td>\n",
       "      <td>7. He asked about inheritance  polymorphism  a...</td>\n",
       "    </tr>\n",
       "    <tr>\n",
       "      <th>3</th>\n",
       "      <td>Database Management System</td>\n",
       "      <td>ddl</td>\n",
       "      <td>COMMIT makes permanent the changes resulting f...</td>\n",
       "    </tr>\n",
       "    <tr>\n",
       "      <th>4</th>\n",
       "      <td>Database Management System</td>\n",
       "      <td>transact</td>\n",
       "      <td>Can one use dynamic SQL within PL/SQL? OR Can ...</td>\n",
       "    </tr>\n",
       "    <tr>\n",
       "      <th>5</th>\n",
       "      <td>Operating System</td>\n",
       "      <td>deadlock</td>\n",
       "      <td>Consider the following areas for tuning. The o...</td>\n",
       "    </tr>\n",
       "    <tr>\n",
       "      <th>6</th>\n",
       "      <td>Database Management System</td>\n",
       "      <td>transact</td>\n",
       "      <td>Correct answer: Data Abstraction  Data Encapsu...</td>\n",
       "    </tr>\n",
       "    <tr>\n",
       "      <th>7</th>\n",
       "      <td>Operating System</td>\n",
       "      <td>deadlock</td>\n",
       "      <td>For IS/CS DBMS basic knowledge  SQL queries is...</td>\n",
       "    </tr>\n",
       "    <tr>\n",
       "      <th>8</th>\n",
       "      <td>Database Management System</td>\n",
       "      <td>ddl</td>\n",
       "      <td>One additional key difference between interfac...</td>\n",
       "    </tr>\n",
       "    <tr>\n",
       "      <th>9</th>\n",
       "      <td>Database Management System</td>\n",
       "      <td>sql</td>\n",
       "      <td>TECH RND2: Threads  again they told to write p...</td>\n",
       "    </tr>\n",
       "    <tr>\n",
       "      <th>10</th>\n",
       "      <td>Database Management System</td>\n",
       "      <td>transact</td>\n",
       "      <td>This level of error severity indicates a trans...</td>\n",
       "    </tr>\n",
       "    <tr>\n",
       "      <th>11</th>\n",
       "      <td>Database Management System</td>\n",
       "      <td>sql</td>\n",
       "      <td>When you install SQL Server 2005 and create a ...</td>\n",
       "    </tr>\n",
       "  </tbody>\n",
       "</table>\n",
       "</div>"
      ],
      "text/plain": [
       "                      Subjects    Topics  \\\n",
       "0   Database Management System       sql   \n",
       "1   Database Management System  transact   \n",
       "2   Database Management System       sql   \n",
       "3   Database Management System       ddl   \n",
       "4   Database Management System  transact   \n",
       "5             Operating System  deadlock   \n",
       "6   Database Management System  transact   \n",
       "7             Operating System  deadlock   \n",
       "8   Database Management System       ddl   \n",
       "9   Database Management System       sql   \n",
       "10  Database Management System  transact   \n",
       "11  Database Management System       sql   \n",
       "\n",
       "                                            Questions  \n",
       "0   1. Java basics what is object  class  abstract...  \n",
       "1   7. He asked about inheritance  polymorphism  a...  \n",
       "2   7. He asked about inheritance  polymorphism  a...  \n",
       "3   COMMIT makes permanent the changes resulting f...  \n",
       "4   Can one use dynamic SQL within PL/SQL? OR Can ...  \n",
       "5   Consider the following areas for tuning. The o...  \n",
       "6   Correct answer: Data Abstraction  Data Encapsu...  \n",
       "7   For IS/CS DBMS basic knowledge  SQL queries is...  \n",
       "8   One additional key difference between interfac...  \n",
       "9   TECH RND2: Threads  again they told to write p...  \n",
       "10  This level of error severity indicates a trans...  \n",
       "11  When you install SQL Server 2005 and create a ...  "
      ]
     },
     "execution_count": 40,
     "metadata": {},
     "output_type": "execute_result"
    }
   ],
   "source": [
    "top_10_set"
   ]
  },
  {
   "cell_type": "code",
   "execution_count": 41,
   "metadata": {},
   "outputs": [],
   "source": [
    "# To visualise further as a collection grouping can be done\n",
    "top_10_set = top_10_set.groupby('Subjects').agg({'Topics':' | '.join,\n",
    "                                                 'Questions':' |  '.join}).reset_index()"
   ]
  },
  {
   "cell_type": "code",
   "execution_count": 42,
   "metadata": {},
   "outputs": [
    {
     "data": {
      "text/html": [
       "<div>\n",
       "<style scoped>\n",
       "    .dataframe tbody tr th:only-of-type {\n",
       "        vertical-align: middle;\n",
       "    }\n",
       "\n",
       "    .dataframe tbody tr th {\n",
       "        vertical-align: top;\n",
       "    }\n",
       "\n",
       "    .dataframe thead th {\n",
       "        text-align: right;\n",
       "    }\n",
       "</style>\n",
       "<table border=\"1\" class=\"dataframe\">\n",
       "  <thead>\n",
       "    <tr style=\"text-align: right;\">\n",
       "      <th></th>\n",
       "      <th>Subjects</th>\n",
       "      <th>Topics</th>\n",
       "      <th>Questions</th>\n",
       "    </tr>\n",
       "  </thead>\n",
       "  <tbody>\n",
       "    <tr>\n",
       "      <th>0</th>\n",
       "      <td>Database Management System</td>\n",
       "      <td>sql | transact | sql | ddl | transact | transa...</td>\n",
       "      <td>1. Java basics what is object  class  abstract...</td>\n",
       "    </tr>\n",
       "    <tr>\n",
       "      <th>1</th>\n",
       "      <td>Operating System</td>\n",
       "      <td>deadlock | deadlock</td>\n",
       "      <td>Consider the following areas for tuning. The o...</td>\n",
       "    </tr>\n",
       "  </tbody>\n",
       "</table>\n",
       "</div>"
      ],
      "text/plain": [
       "                     Subjects  \\\n",
       "0  Database Management System   \n",
       "1            Operating System   \n",
       "\n",
       "                                              Topics  \\\n",
       "0  sql | transact | sql | ddl | transact | transa...   \n",
       "1                                deadlock | deadlock   \n",
       "\n",
       "                                           Questions  \n",
       "0  1. Java basics what is object  class  abstract...  \n",
       "1  Consider the following areas for tuning. The o...  "
      ]
     },
     "execution_count": 42,
     "metadata": {},
     "output_type": "execute_result"
    }
   ],
   "source": [
    "top_10_set"
   ]
  },
  {
   "cell_type": "code",
   "execution_count": 43,
   "metadata": {},
   "outputs": [],
   "source": [
    "# Moving the dataframe to the csv file\n",
    "\n",
    "top_10_set.to_csv('solution.csv', sep=',', index=False, encoding = \"ISO-8859-1\")"
   ]
  },
  {
   "cell_type": "markdown",
   "metadata": {},
   "source": [
    "### Note : Check the directory for the solution.csv file. It contains the top 10 questions with their respective subjects and topics"
   ]
  },
  {
   "cell_type": "code",
   "execution_count": null,
   "metadata": {},
   "outputs": [],
   "source": []
  }
 ],
 "metadata": {
  "kernelspec": {
   "display_name": "Python 3",
   "language": "python",
   "name": "python3"
  },
  "language_info": {
   "codemirror_mode": {
    "name": "ipython",
    "version": 3
   },
   "file_extension": ".py",
   "mimetype": "text/x-python",
   "name": "python",
   "nbconvert_exporter": "python",
   "pygments_lexer": "ipython3",
   "version": "3.6.8"
  }
 },
 "nbformat": 4,
 "nbformat_minor": 2
}
